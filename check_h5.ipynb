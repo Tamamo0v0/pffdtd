{
 "cells": [
  {
   "cell_type": "markdown",
   "metadata": {},
   "source": [
    "# This is the code used for visualization"
   ]
  },
  {
   "cell_type": "code",
   "execution_count": 1,
   "metadata": {},
   "outputs": [],
   "source": [
    "#import libs\n",
    "#pip install h5py\n",
    "#pip install matplotlib\n",
    "\n",
    "import h5py\n",
    "import matplotlib\n"
   ]
  },
  {
   "cell_type": "code",
   "execution_count": null,
   "metadata": {},
   "outputs": [],
   "source": [
    "#enter h5 file path here\n",
    "h5_file_path1 = \"./data/sim_data/ctk_cart/viz/cart_grid.h5\"\n",
    "h5_file_path2 = \"./data/sim_data/ctk_cart/viz/comms_out.h5\"\n",
    "h5_file_path3 = \"./data/sim_data/ctk_cart/viz/sim_consts.h5\"\n",
    "h5_file_path4 = \"./data/sim_data/ctk_cart/viz/sim_mats.h5\"\n",
    "h5_file_path5 = \"./data/sim_data/ctk_cart/viz/sim_outs.h5\"\n",
    "h5_file_path6 = \"./data/sim_data/ctk_cart/viz/vox_out.h5\"\n",
    "\n",
    "h5_file_path_list = [\n",
    "    h5_file_path1,\n",
    "    h5_file_path2,\n",
    "    h5_file_path3,\n",
    "    h5_file_path4,\n",
    "    h5_file_path5,\n",
    "    h5_file_path6,\n",
    "    ]\n",
    "\n",
    "\n",
    "# h5_file = h5py.File(\"./data/materials/ctk_ceiling.h5\")\n",
    "\n",
    "h5_file = h5py.File(h5_file_path5)\n",
    "\n",
    "h5_file_list = []\n",
    "\n",
    "for path in h5_file_path_list:\n",
    "    h5_file_list.append(h5py.File(path))"
   ]
  },
  {
   "cell_type": "markdown",
   "metadata": {},
   "source": [
    "## print h5 file structure"
   ]
  },
  {
   "cell_type": "code",
   "execution_count": 3,
   "metadata": {},
   "outputs": [
    {
     "name": "stdout",
     "output_type": "stream",
     "text": [
      "<KeysViewHDF5 ['DEF']>\n",
      "--------------------\n",
      "./data/sim_data/ctk_cart/viz/cart_grid.h5\n",
      "<KeysViewHDF5 ['h', 'xv', 'yv', 'zv']>\n",
      "--------------------\n",
      "./data/sim_data/ctk_cart/viz/comms_out.h5\n",
      "<KeysViewHDF5 ['Nr', 'Ns', 'Nt', 'diff', 'in_ixyz', 'in_sigs', 'out_alpha', 'out_ixyz', 'out_reorder']>\n",
      "--------------------\n",
      "./data/sim_data/ctk_cart/viz/sim_consts.h5\n",
      "<KeysViewHDF5 ['SR', 'Tc', 'Ts', 'c', 'fcc_flag', 'h', 'l', 'l2', 'rh']>\n",
      "--------------------\n",
      "./data/sim_data/ctk_cart/viz/sim_mats.h5\n",
      "<KeysViewHDF5 ['Mb', 'Nmat', 'mat_00_DEF', 'mat_01_DEF', 'mat_02_DEF', 'mat_03_DEF', 'mat_04_DEF', 'mat_05_DEF', 'mat_06_DEF', 'mat_07_DEF']>\n",
      "--------------------\n",
      "./data/sim_data/ctk_cart/viz/sim_outs.h5\n",
      "<KeysViewHDF5 ['u_out']>\n",
      "--------------------\n",
      "./data/sim_data/ctk_cart/viz/vox_out.h5\n",
      "<KeysViewHDF5 ['Nb', 'Nx', 'Ny', 'Nz', 'adj_bn', 'bn_ixyz', 'h', 'mat_bn', 'saf_bn', 'xv', 'yv', 'zv']>\n"
     ]
    }
   ],
   "source": [
    "print(h5_file.keys())\n",
    "\n",
    "\n",
    "for name, file in zip(h5_file_path_list, h5_file_list):\n",
    "    print(\"-\"*20)\n",
    "    print(name)\n",
    "    print(file.keys())\n"
   ]
  },
  {
   "cell_type": "markdown",
   "metadata": {},
   "source": [
    "## slice h5 file"
   ]
  },
  {
   "cell_type": "code",
   "execution_count": 5,
   "metadata": {},
   "outputs": [
    {
     "name": "stdout",
     "output_type": "stream",
     "text": [
      "[[4.87376020e-01 3.38336657e+01 4.69746925e+03]\n",
      " [3.47227382e-01 4.82090816e+01 1.33867066e+04]\n",
      " [1.63313628e-01 4.53489583e+01 2.51850142e+04]\n",
      " [6.72155958e-02 3.73288780e+01 4.14619588e+04]\n",
      " [2.34061429e+02 2.59976883e+05 5.77523428e+08]\n",
      " [5.54030911e-02 1.23074724e+02 5.46806592e+05]\n",
      " [2.67812295e-02 1.18985868e+02 1.05728056e+06]\n",
      " [1.51676835e-02 1.34776485e+02 2.39518458e+06]\n",
      " [1.40201370e-02 2.49159309e+02 8.85588514e+06]\n",
      " [5.85394668e-03 2.08067199e+02 1.47906913e+07]\n",
      " [2.13043914e-03 1.51444668e+02 2.15312297e+07]]\n"
     ]
    }
   ],
   "source": [
    "print(h5_file[\"DEF\"][:])"
   ]
  },
  {
   "cell_type": "code",
   "execution_count": 7,
   "metadata": {},
   "outputs": [],
   "source": [
    "#clear file\n",
    "\n",
    "for file in h5_file_list:\n",
    "    file.close()\n",
    "    \n",
    "h5_file.close()"
   ]
  }
 ],
 "metadata": {
  "kernelspec": {
   "display_name": "pffdtd_new",
   "language": "python",
   "name": "python3"
  },
  "language_info": {
   "codemirror_mode": {
    "name": "ipython",
    "version": 3
   },
   "file_extension": ".py",
   "mimetype": "text/x-python",
   "name": "python",
   "nbconvert_exporter": "python",
   "pygments_lexer": "ipython3",
   "version": "3.9.0"
  }
 },
 "nbformat": 4,
 "nbformat_minor": 2
}
